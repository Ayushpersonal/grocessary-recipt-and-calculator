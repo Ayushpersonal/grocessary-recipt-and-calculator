{
  "nbformat": 4,
  "nbformat_minor": 0,
  "metadata": {
    "colab": {
      "provenance": []
    },
    "kernelspec": {
      "name": "python3",
      "display_name": "Python 3"
    },
    "language_info": {
      "name": "python"
    }
  },
  "cells": [
    {
      "cell_type": "code",
      "source": [
        "\n",
        "print(\"Welcome to the Grocery Store!\")\n",
        "\n",
        "item_prices = {\n",
        "    \"chips\": 32,\n",
        "    \"biscuit\": 13,\n",
        "    \"chocolate\": 56,\n",
        "    \"milk\":34,\n",
        "    \"bread\": 66,\n",
        "    \"eggs\": 69\n",
        "}\n",
        "\n",
        "cart = {}\n",
        "total = 0\n",
        "\n",
        "while True:\n",
        "    item_name = input(\"\\nEnter item name: \").lower()\n",
        "\n",
        "    if item_name in item_prices:\n",
        "        quantity = int(input(f\"Enter quantity for {item_name}: \"))\n",
        "        cart[item_name] = cart.get(item_name, 0) + quantity\n",
        "    else:\n",
        "        print(\"Item not available in store.\")\n",
        "\n",
        "    more = input(\"Do you want to add more items? (y/n): \").lower()\n",
        "    if more != 'y':\n",
        "        break\n",
        "\n",
        "print(\"\\n========= RECEIPT =========\")\n",
        "print(f\"{'Item':<10}{'Qty':<5}{'Price':<6}{'Total'}\")\n",
        "print(\"=\"*30)\n",
        "\n",
        "for item, qty in cart.items():\n",
        "    price = item_prices[item]\n",
        "    item_total = price * qty\n",
        "    total += item_total\n",
        "    print(f\"{item:<10}{qty:<5}{price:<6}{item_total}\")\n",
        "\n",
        "print(\"=\"*30)\n",
        "print(f\"Grand Total: ₹{total}\")\n",
        "print(\"Thank you for shopping with us!\")\n"
      ],
      "metadata": {
        "colab": {
          "base_uri": "https://localhost:8080/"
        },
        "id": "XyeZvCPyMTgZ",
        "outputId": "a892f49f-c5b8-438f-baf5-0cf03042dd7c"
      },
      "execution_count": 9,
      "outputs": [
        {
          "output_type": "stream",
          "name": "stdout",
          "text": [
            "Welcome to the Grocery Store!\n",
            "\n",
            "Enter item name: chips\n",
            "Enter quantity for chips: 976\n",
            "Do you want to add more items? (y/n): y\n",
            "\n",
            "Enter item name: biscuit\n",
            "Enter quantity for biscuit: 9768\n",
            "Do you want to add more items? (y/n): n\n",
            "\n",
            "========= RECEIPT =========\n",
            "Item      Qty  Price Total\n",
            "==============================\n",
            "chips     976  32    31232\n",
            "biscuit   9768 13    126984\n",
            "==============================\n",
            "Grand Total: ₹158216\n",
            "Thank you for shopping with us!\n"
          ]
        }
      ]
    }
  ]
}